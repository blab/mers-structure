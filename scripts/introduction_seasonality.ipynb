{
 "cells": [
  {
   "cell_type": "markdown",
   "metadata": {},
   "source": [
    "### Seasonality in MERS-CoV introductions\n",
    "In this notebook we will take output from a structured coalescent and estimate per month per year introduction probabilities.\n",
    "\n",
    "To run the stuff in here you'll need the packages **rstan** and  **parallel**."
   ]
  },
  {
   "cell_type": "markdown",
   "metadata": {},
   "source": [
    "The first step is to load in the \"raw\" data and discretise it into a grid."
   ]
  },
  {
   "cell_type": "code",
   "execution_count": null,
   "metadata": {
    "collapsed": false
   },
   "outputs": [],
   "source": [
    "## Auxiliary functions\n",
    "rmNan <- function(x) x[!is.nan(x)]\n",
    "#\n",
    "getMonthYear <- function(x){\n",
    "  strx <- sprintf(\"%.3f\", x)\n",
    "  year <- as.numeric(strsplit(strx, \"\\\\.\")[[1]][1])\n",
    "  fractional <- as.numeric(paste(\"0.\", strsplit(strx, \"\\\\.\")[[1]][2], sep = \"\"))\n",
    "  month <- as.numeric(cut(fractional, breaks = seq(-1e-6, 1, 1/12)))\n",
    "  return(data.frame(month = month, year = year))\n",
    "}\n",
    "#\n",
    "getMonthYear <- Vectorize(getMonthYear)\n",
    "#\n",
    "markOccurences <- function(discdates, grid){\n",
    "  apply(grid, 1, function(timepoint){\n",
    "    occurrences <- subset(discdates,\n",
    "                          year == as.numeric(timepoint[2]) & month == as.numeric(timepoint[1]) )\n",
    "    ifelse(nrow(occurrences) > 0 , 1, 0)\n",
    "  }\n",
    "  )\n",
    "}"
   ]
  },
  {
   "cell_type": "code",
   "execution_count": null,
   "metadata": {
    "collapsed": true
   },
   "outputs": [],
   "source": [
    "## Loading data\n",
    "raw_dates <- read.table(\"../data/seasonality/MERS_274_sCoal.combined.intros\", header = TRUE)\n",
    "dates <- raw_dates[, -1]"
   ]
  },
  {
   "cell_type": "code",
   "execution_count": null,
   "metadata": {
    "collapsed": true
   },
   "outputs": [],
   "source": [
    "## Discretising \n",
    "NonNaNDates <- apply(dates, 1, function(x) rmNan(unlist(x)))\n",
    "DiscretisedDates <- parallel::mclapply(X = NonNaNDates, FUN = getMonthYear, mc.cores = 8)\n",
    "DiscretisedDates <- lapply(DiscretisedDates, function(x) data.frame(t(x)))"
   ]
  },
  {
   "cell_type": "markdown",
   "metadata": {},
   "source": [
    "We will now discretise the dates. To do that we'll create a grid of years and months, and count how many introductions (in the posterior distribution) have occurred in year $i$ and month $j$ at tree $k$."
   ]
  },
  {
   "cell_type": "code",
   "execution_count": null,
   "metadata": {
    "collapsed": true
   },
   "outputs": [],
   "source": [
    "## Create grid\n",
    "Years <- seq(2010, 2014)\n",
    "Months <- 1:12\n",
    "fullGrid <- expand.grid(Months, Years)\n",
    "names(fullGrid) <- c(\"month\", \"year\")"
   ]
  },
  {
   "cell_type": "code",
   "execution_count": null,
   "metadata": {
    "collapsed": false
   },
   "outputs": [],
   "source": [
    "Indicators <- parallel::mclapply(DiscretisedDates, markOccurences, grid = fullGrid, mc.cores = 12)\n",
    "IndMat <- matrix(unlist(Indicators), ncol = length(DiscretisedDates), nrow = nrow(fullGrid))"
   ]
  },
  {
   "cell_type": "code",
   "execution_count": null,
   "metadata": {
    "collapsed": true
   },
   "outputs": [],
   "source": [
    "## Export\n",
    "write.csv(IndMat, file = \"../data/seasonality/discretised_introductions_2010-2014.csv\", row.names = FALSE)"
   ]
  },
  {
   "cell_type": "markdown",
   "metadata": {},
   "source": [
    "Now let's run [stan](http://mc-stan.org/) to get our estimates (see paper and the stan [script](https://github.com/blab/structured-mers/tree/master/scripts/stan/simple_binomial_seasonal.stan) for the model we employed)."
   ]
  },
  {
   "cell_type": "code",
   "execution_count": null,
   "metadata": {
    "collapsed": true
   },
   "outputs": [],
   "source": [
    "getIndices <- function(x) match(x, sort(unique(x)))\n",
    "stanData.bernoulli.seasonality <- list(\n",
    "  N = nrow(IndMat),\n",
    "  M = length(Months),\n",
    "  J = length(Years), \n",
    "  L = ncol(IndMat),\n",
    "  year_indices = getIndices(fullGrid$year),\n",
    "  month_indices = getIndices(fullGrid$month),\n",
    "  X = rowSums(IndMat) \n",
    ")\n",
    "library(rstan)\n",
    "options(mc.cores = 4)\n",
    "\n",
    "simple <- stan(file = \"stan/simple_binomial_seasonal.stan\",\n",
    "             data = stanData.bernoulli.seasonality, iter = 1, chains = 1)\n",
    "\n",
    "posterior.simple <- stan(fit = simple, data = stanData.bernoulli.seasonality, iter = 5000, \n",
    "                         control = list(adapt_delta = .80))"
   ]
  },
  {
   "cell_type": "code",
   "execution_count": null,
   "metadata": {
    "collapsed": true
   },
   "outputs": [],
   "source": [
    "## Extract and export coefficient results\n",
    "Betas <- extract(posterior.simple, 'beta')$beta\n",
    "colnames(Betas) <- paste(\"beta_\", month.name, sep = \"\")\n",
    "write.csv(Betas,\n",
    "          file = \"../data/seasonality/posterior_betas_months.csv\", row.names = FALSE)"
   ]
  },
  {
   "cell_type": "markdown",
   "metadata": {},
   "source": [
    "WARNING: if the notebook goes funny, please just copy-paste the code in an R console and things should work."
   ]
  }
 ],
 "metadata": {
  "kernelspec": {
   "display_name": "R",
   "language": "R",
   "name": "ir"
  },
  "language_info": {
   "codemirror_mode": "r",
   "file_extension": ".r",
   "mimetype": "text/x-r-source",
   "name": "R",
   "pygments_lexer": "r",
   "version": "3.3.2"
  }
 },
 "nbformat": 4,
 "nbformat_minor": 0
}
